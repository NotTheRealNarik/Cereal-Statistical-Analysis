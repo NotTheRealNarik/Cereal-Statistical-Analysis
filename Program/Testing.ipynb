{
 "cells": [
  {
   "cell_type": "code",
   "execution_count": null,
   "metadata": {},
   "outputs": [],
   "source": [
    "Below are the R commands for generating the numerical and graphical results of\n",
    "Problem 1 above.\n",
    "\n",
    "exer11.4=read.table(\n",
    "url(\"http://math.wsu.edu/math/faculty/jpascual/stat423/hwdata/exer11-4.txt\"),\n",
    " header=T,colClasses=c(\"numeric\",\"factor\",\"factor\"))\n",
    "# read data from text file online\n",
    "exer11.4\n",
    "\n",
    "out=aov(Response~Paint.Brand+Roller.Brand,data=exer11.4)\n",
    "summary(exer11.4out) #two-way additive ANOVA table\n",
    "interaction.plot(exer11.4$Paint.Brand,exer11.4$Roller.Brand,\n",
    " response=exer11.4$Response,lty=1:3,\n",
    " ylab=\"Square Feet Covered\",\n",
    " xlab=\"B = Paint Brand\",\n",
    " trace.label=\"Roller Brand\",legend=F,\n",
    " main=\"Interaction Plot\")\n",
    "legend(\"topright\",legend=1:3,lty=1:3,title=\"A = Roller Brand\")\n",
    "plot(exer11.4out$fitted.values,exer11.4out$residuals,xlab=\"Fitted Values\",\n",
    " ylab=\"Residuals\") # plot of residuals versus fitted\n",
    "abline(h=0)\n",
    "library(nortest)\n",
    "ad.test(exer11.4out$residuals) # Anderson-Darling Test of normality\n",
    "#Normal probability plot of residuals\n",
    "qqnorm(exer11.4out$residuals,ylab=\"Residuals\", main=\"Normal Probability Plot\")\n",
    "text(-1.6,2.5,pos=4, \"Anderson-Darling Test:\\n p-value=0.9322\")"
   ]
  },
  {
   "cell_type": "code",
   "execution_count": 20,
   "metadata": {},
   "outputs": [
    {
     "data": {
      "text/html": [
       "<table>\n",
       "<thead><tr><th scope=col>X.Quantity.</th><th scope=col>X.Brand.</th><th scope=col>X.Sugar.</th></tr></thead>\n",
       "<tbody>\n",
       "\t<tr><td>25                                 </td><td>Cinnamon Toast Crunch              </td><td> 8.1                               </td></tr>\n",
       "\t<tr><td>25                                 </td><td>Honey Bunches of Oats Honey Roasted</td><td> 5.0                               </td></tr>\n",
       "\t<tr><td>25                                 </td><td>Cheerios Original                  </td><td> 0.9                               </td></tr>\n",
       "\t<tr><td>25                                 </td><td>Kelloggs Corn Flakes               </td><td> 2.7                               </td></tr>\n",
       "\t<tr><td>35                                 </td><td>Cinnamon Toast Crunch              </td><td>11.3                               </td></tr>\n",
       "\t<tr><td>35                                 </td><td>Honey Bunches of Oats Honey Roasted</td><td> 7.0                               </td></tr>\n",
       "\t<tr><td>35                                 </td><td>Cheerios Original                  </td><td> 1.3                               </td></tr>\n",
       "\t<tr><td>35                                 </td><td>Kelloggs Corn Flakes               </td><td> 3.8                               </td></tr>\n",
       "\t<tr><td>50                                 </td><td>Cinnamon Toast Crunch              </td><td>16.1                               </td></tr>\n",
       "\t<tr><td>50                                 </td><td>Honey Bunches of Oats Honey Roasted</td><td>10.0                               </td></tr>\n",
       "\t<tr><td>50                                 </td><td>Cheerios Original                  </td><td> 1.8                               </td></tr>\n",
       "\t<tr><td>50                                 </td><td>Kelloggs Corn Flakes               </td><td> 5.4                               </td></tr>\n",
       "</tbody>\n",
       "</table>\n"
      ],
      "text/latex": [
       "\\begin{tabular}{r|lll}\n",
       " X.Quantity. & X.Brand. & X.Sugar.\\\\\n",
       "\\hline\n",
       "\t 25                                  & Cinnamon Toast Crunch               &  8.1                               \\\\\n",
       "\t 25                                  & Honey Bunches of Oats Honey Roasted &  5.0                               \\\\\n",
       "\t 25                                  & Cheerios Original                   &  0.9                               \\\\\n",
       "\t 25                                  & Kelloggs Corn Flakes                &  2.7                               \\\\\n",
       "\t 35                                  & Cinnamon Toast Crunch               & 11.3                               \\\\\n",
       "\t 35                                  & Honey Bunches of Oats Honey Roasted &  7.0                               \\\\\n",
       "\t 35                                  & Cheerios Original                   &  1.3                               \\\\\n",
       "\t 35                                  & Kelloggs Corn Flakes                &  3.8                               \\\\\n",
       "\t 50                                  & Cinnamon Toast Crunch               & 16.1                               \\\\\n",
       "\t 50                                  & Honey Bunches of Oats Honey Roasted & 10.0                               \\\\\n",
       "\t 50                                  & Cheerios Original                   &  1.8                               \\\\\n",
       "\t 50                                  & Kelloggs Corn Flakes                &  5.4                               \\\\\n",
       "\\end{tabular}\n"
      ],
      "text/markdown": [
       "\n",
       "X.Quantity. | X.Brand. | X.Sugar. | \n",
       "|---|---|---|---|---|---|---|---|---|---|---|---|\n",
       "| 25                                  | Cinnamon Toast Crunch               |  8.1                                | \n",
       "| 25                                  | Honey Bunches of Oats Honey Roasted |  5.0                                | \n",
       "| 25                                  | Cheerios Original                   |  0.9                                | \n",
       "| 25                                  | Kelloggs Corn Flakes                |  2.7                                | \n",
       "| 35                                  | Cinnamon Toast Crunch               | 11.3                                | \n",
       "| 35                                  | Honey Bunches of Oats Honey Roasted |  7.0                                | \n",
       "| 35                                  | Cheerios Original                   |  1.3                                | \n",
       "| 35                                  | Kelloggs Corn Flakes                |  3.8                                | \n",
       "| 50                                  | Cinnamon Toast Crunch               | 16.1                                | \n",
       "| 50                                  | Honey Bunches of Oats Honey Roasted | 10.0                                | \n",
       "| 50                                  | Cheerios Original                   |  1.8                                | \n",
       "| 50                                  | Kelloggs Corn Flakes                |  5.4                                | \n",
       "\n",
       "\n"
      ],
      "text/plain": [
       "   X.Quantity. X.Brand.                            X.Sugar.\n",
       "1  25          Cinnamon Toast Crunch                8.1    \n",
       "2  25          Honey Bunches of Oats Honey Roasted  5.0    \n",
       "3  25          Cheerios Original                    0.9    \n",
       "4  25          Kelloggs Corn Flakes                 2.7    \n",
       "5  35          Cinnamon Toast Crunch               11.3    \n",
       "6  35          Honey Bunches of Oats Honey Roasted  7.0    \n",
       "7  35          Cheerios Original                    1.3    \n",
       "8  35          Kelloggs Corn Flakes                 3.8    \n",
       "9  50          Cinnamon Toast Crunch               16.1    \n",
       "10 50          Honey Bunches of Oats Honey Roasted 10.0    \n",
       "11 50          Cheerios Original                    1.8    \n",
       "12 50          Kelloggs Corn Flakes                 5.4    "
      ]
     },
     "metadata": {},
     "output_type": "display_data"
    },
    {
     "data": {
      "text/html": [
       "<table>\n",
       "<thead><tr><th scope=col>X.Quantity.</th><th scope=col>X.Brand.</th><th scope=col>X.Protien.</th></tr></thead>\n",
       "<tbody>\n",
       "\t<tr><td>25                                 </td><td>Cinnamon Toast Crunch              </td><td>0.8                                </td></tr>\n",
       "\t<tr><td>25                                 </td><td>Honey Bunches of Oats Honey Roasted</td><td>1.7                                </td></tr>\n",
       "\t<tr><td>25                                 </td><td>Cheerios Original                  </td><td>2.7                                </td></tr>\n",
       "\t<tr><td>25                                 </td><td>Kelloggs Corn Flakes               </td><td>1.8                                </td></tr>\n",
       "\t<tr><td>35                                 </td><td>Cinnamon Toast Crunch              </td><td>1.1                                </td></tr>\n",
       "\t<tr><td>35                                 </td><td>Honey Bunches of Oats Honey Roasted</td><td>2.3                                </td></tr>\n",
       "\t<tr><td>35                                 </td><td>Cheerios Original                  </td><td>3.8                                </td></tr>\n",
       "\t<tr><td>35                                 </td><td>Kelloggs Corn Flakes               </td><td>2.5                                </td></tr>\n",
       "\t<tr><td>50                                 </td><td>Cinnamon Toast Crunch              </td><td>1.6                                </td></tr>\n",
       "\t<tr><td>50                                 </td><td>Honey Bunches of Oats Honey Roasted</td><td>3.3                                </td></tr>\n",
       "\t<tr><td>50                                 </td><td>Cheerios Original                  </td><td>5.4                                </td></tr>\n",
       "\t<tr><td>50                                 </td><td>Kelloggs Corn Flakes               </td><td>3.6                                </td></tr>\n",
       "</tbody>\n",
       "</table>\n"
      ],
      "text/latex": [
       "\\begin{tabular}{r|lll}\n",
       " X.Quantity. & X.Brand. & X.Protien.\\\\\n",
       "\\hline\n",
       "\t 25                                  & Cinnamon Toast Crunch               & 0.8                                \\\\\n",
       "\t 25                                  & Honey Bunches of Oats Honey Roasted & 1.7                                \\\\\n",
       "\t 25                                  & Cheerios Original                   & 2.7                                \\\\\n",
       "\t 25                                  & Kelloggs Corn Flakes                & 1.8                                \\\\\n",
       "\t 35                                  & Cinnamon Toast Crunch               & 1.1                                \\\\\n",
       "\t 35                                  & Honey Bunches of Oats Honey Roasted & 2.3                                \\\\\n",
       "\t 35                                  & Cheerios Original                   & 3.8                                \\\\\n",
       "\t 35                                  & Kelloggs Corn Flakes                & 2.5                                \\\\\n",
       "\t 50                                  & Cinnamon Toast Crunch               & 1.6                                \\\\\n",
       "\t 50                                  & Honey Bunches of Oats Honey Roasted & 3.3                                \\\\\n",
       "\t 50                                  & Cheerios Original                   & 5.4                                \\\\\n",
       "\t 50                                  & Kelloggs Corn Flakes                & 3.6                                \\\\\n",
       "\\end{tabular}\n"
      ],
      "text/markdown": [
       "\n",
       "X.Quantity. | X.Brand. | X.Protien. | \n",
       "|---|---|---|---|---|---|---|---|---|---|---|---|\n",
       "| 25                                  | Cinnamon Toast Crunch               | 0.8                                 | \n",
       "| 25                                  | Honey Bunches of Oats Honey Roasted | 1.7                                 | \n",
       "| 25                                  | Cheerios Original                   | 2.7                                 | \n",
       "| 25                                  | Kelloggs Corn Flakes                | 1.8                                 | \n",
       "| 35                                  | Cinnamon Toast Crunch               | 1.1                                 | \n",
       "| 35                                  | Honey Bunches of Oats Honey Roasted | 2.3                                 | \n",
       "| 35                                  | Cheerios Original                   | 3.8                                 | \n",
       "| 35                                  | Kelloggs Corn Flakes                | 2.5                                 | \n",
       "| 50                                  | Cinnamon Toast Crunch               | 1.6                                 | \n",
       "| 50                                  | Honey Bunches of Oats Honey Roasted | 3.3                                 | \n",
       "| 50                                  | Cheerios Original                   | 5.4                                 | \n",
       "| 50                                  | Kelloggs Corn Flakes                | 3.6                                 | \n",
       "\n",
       "\n"
      ],
      "text/plain": [
       "   X.Quantity. X.Brand.                            X.Protien.\n",
       "1  25          Cinnamon Toast Crunch               0.8       \n",
       "2  25          Honey Bunches of Oats Honey Roasted 1.7       \n",
       "3  25          Cheerios Original                   2.7       \n",
       "4  25          Kelloggs Corn Flakes                1.8       \n",
       "5  35          Cinnamon Toast Crunch               1.1       \n",
       "6  35          Honey Bunches of Oats Honey Roasted 2.3       \n",
       "7  35          Cheerios Original                   3.8       \n",
       "8  35          Kelloggs Corn Flakes                2.5       \n",
       "9  50          Cinnamon Toast Crunch               1.6       \n",
       "10 50          Honey Bunches of Oats Honey Roasted 3.3       \n",
       "11 50          Cheerios Original                   5.4       \n",
       "12 50          Kelloggs Corn Flakes                3.6       "
      ]
     },
     "metadata": {},
     "output_type": "display_data"
    },
    {
     "data": {
      "text/html": [
       "<table>\n",
       "<thead><tr><th scope=col>X.Quantity.</th><th scope=col>X.Brand.</th><th scope=col>X.Calories.</th></tr></thead>\n",
       "<tbody>\n",
       "\t<tr><td>25                                 </td><td>Cinnamon Toast Crunch              </td><td>105                                </td></tr>\n",
       "\t<tr><td>25                                 </td><td>Honey Bunches of Oats Honey Roasted</td><td>100                                </td></tr>\n",
       "\t<tr><td>25                                 </td><td>Cheerios Original                  </td><td> 89                                </td></tr>\n",
       "\t<tr><td>25                                 </td><td>Kelloggs Corn Flakes               </td><td> 89                                </td></tr>\n",
       "\t<tr><td>35                                 </td><td>Cinnamon Toast Crunch              </td><td>147                                </td></tr>\n",
       "\t<tr><td>35                                 </td><td>Honey Bunches of Oats Honey Roasted</td><td>140                                </td></tr>\n",
       "\t<tr><td>35                                 </td><td>Cheerios Original                  </td><td>125                                </td></tr>\n",
       "\t<tr><td>35                                 </td><td>Kelloggs Corn Flakes               </td><td>125                                </td></tr>\n",
       "\t<tr><td>50                                 </td><td>Cinnamon Toast Crunch              </td><td>210                                </td></tr>\n",
       "\t<tr><td>50                                 </td><td>Honey Bunches of Oats Honey Roasted</td><td>200                                </td></tr>\n",
       "\t<tr><td>50                                 </td><td>Cheerios Original                  </td><td>179                                </td></tr>\n",
       "\t<tr><td>50                                 </td><td>Kelloggs Corn Flakes               </td><td>179                                </td></tr>\n",
       "</tbody>\n",
       "</table>\n"
      ],
      "text/latex": [
       "\\begin{tabular}{r|lll}\n",
       " X.Quantity. & X.Brand. & X.Calories.\\\\\n",
       "\\hline\n",
       "\t 25                                  & Cinnamon Toast Crunch               & 105                                \\\\\n",
       "\t 25                                  & Honey Bunches of Oats Honey Roasted & 100                                \\\\\n",
       "\t 25                                  & Cheerios Original                   &  89                                \\\\\n",
       "\t 25                                  & Kelloggs Corn Flakes                &  89                                \\\\\n",
       "\t 35                                  & Cinnamon Toast Crunch               & 147                                \\\\\n",
       "\t 35                                  & Honey Bunches of Oats Honey Roasted & 140                                \\\\\n",
       "\t 35                                  & Cheerios Original                   & 125                                \\\\\n",
       "\t 35                                  & Kelloggs Corn Flakes                & 125                                \\\\\n",
       "\t 50                                  & Cinnamon Toast Crunch               & 210                                \\\\\n",
       "\t 50                                  & Honey Bunches of Oats Honey Roasted & 200                                \\\\\n",
       "\t 50                                  & Cheerios Original                   & 179                                \\\\\n",
       "\t 50                                  & Kelloggs Corn Flakes                & 179                                \\\\\n",
       "\\end{tabular}\n"
      ],
      "text/markdown": [
       "\n",
       "X.Quantity. | X.Brand. | X.Calories. | \n",
       "|---|---|---|---|---|---|---|---|---|---|---|---|\n",
       "| 25                                  | Cinnamon Toast Crunch               | 105                                 | \n",
       "| 25                                  | Honey Bunches of Oats Honey Roasted | 100                                 | \n",
       "| 25                                  | Cheerios Original                   |  89                                 | \n",
       "| 25                                  | Kelloggs Corn Flakes                |  89                                 | \n",
       "| 35                                  | Cinnamon Toast Crunch               | 147                                 | \n",
       "| 35                                  | Honey Bunches of Oats Honey Roasted | 140                                 | \n",
       "| 35                                  | Cheerios Original                   | 125                                 | \n",
       "| 35                                  | Kelloggs Corn Flakes                | 125                                 | \n",
       "| 50                                  | Cinnamon Toast Crunch               | 210                                 | \n",
       "| 50                                  | Honey Bunches of Oats Honey Roasted | 200                                 | \n",
       "| 50                                  | Cheerios Original                   | 179                                 | \n",
       "| 50                                  | Kelloggs Corn Flakes                | 179                                 | \n",
       "\n",
       "\n"
      ],
      "text/plain": [
       "   X.Quantity. X.Brand.                            X.Calories.\n",
       "1  25          Cinnamon Toast Crunch               105        \n",
       "2  25          Honey Bunches of Oats Honey Roasted 100        \n",
       "3  25          Cheerios Original                    89        \n",
       "4  25          Kelloggs Corn Flakes                 89        \n",
       "5  35          Cinnamon Toast Crunch               147        \n",
       "6  35          Honey Bunches of Oats Honey Roasted 140        \n",
       "7  35          Cheerios Original                   125        \n",
       "8  35          Kelloggs Corn Flakes                125        \n",
       "9  50          Cinnamon Toast Crunch               210        \n",
       "10 50          Honey Bunches of Oats Honey Roasted 200        \n",
       "11 50          Cheerios Original                   179        \n",
       "12 50          Kelloggs Corn Flakes                179        "
      ]
     },
     "metadata": {},
     "output_type": "display_data"
    }
   ],
   "source": [
    "sugar <- read.csv(\"D:/WSU/Stat 523/Data/Project_data_sugar.txt\", sep = ',', header=T,colClasses=c(\"factor\", \"factor\",\"numeric\"))\n",
    "protien <- read.csv(\"D:/WSU/Stat 523/Data/Project_data_protien.txt\", sep = ',', header=T,colClasses=c(\"factor\", \"factor\",\"numeric\"))\n",
    "calories <- read.csv(\"D:/WSU/Stat 523/Data/Project_data_calories.txt\", sep = ',', header=T,colClasses=c(\"factor\", \"factor\",\"numeric\"))\n",
    "\n",
    "sugar\n",
    "protien\n",
    "calories"
   ]
  },
  {
   "cell_type": "code",
   "execution_count": 21,
   "metadata": {},
   "outputs": [
    {
     "ename": "ERROR",
     "evalue": "Error in is.data.frame(data): object 'Nutri' not found\n",
     "output_type": "error",
     "traceback": [
      "Error in is.data.frame(data): object 'Nutri' not found\nTraceback:\n",
      "1. lm(X.Quantity. ~ X.Protien. + Sugar, Nutri)",
      "2. eval(mf, parent.frame())",
      "3. eval(mf, parent.frame())",
      "4. stats::model.frame(formula = X.Quantity. ~ X.Protien. + Sugar, \n .     data = Nutri, drop.unused.levels = TRUE)",
      "5. model.frame.default(formula = X.Quantity. ~ X.Protien. + Sugar, \n .     data = Nutri, drop.unused.levels = TRUE)",
      "6. is.data.frame(data)"
     ]
    }
   ],
   "source": [
    "twoPredictorModel <- lm( X.Quantity. ~ X.Protien. + Sugar, Nutri)\n",
    "twoPredictorModel\n",
    "anova(teopredictorModel)\n",
    "summary(twoPredictorModel)"
   ]
  },
  {
   "cell_type": "code",
   "execution_count": 22,
   "metadata": {},
   "outputs": [
    {
     "data": {
      "text/plain": [
       "            Df Sum Sq Mean Sq F value   Pr(>F)    \n",
       "X.Brand.     3 184.99   61.66  25.846 0.000788 ***\n",
       "X.Quantity.  2  34.87   17.44   7.308 0.024651 *  \n",
       "Residuals    6  14.31    2.39                     \n",
       "---\n",
       "Signif. codes:  0 '***' 0.001 '**' 0.01 '*' 0.05 '.' 0.1 ' ' 1"
      ]
     },
     "metadata": {},
     "output_type": "display_data"
    }
   ],
   "source": [
    "outsugar = aov(X.Sugar. ~ X.Brand. + X.Quantity., data = sugar )\n",
    "summary(outsugar)"
   ]
  },
  {
   "cell_type": "code",
   "execution_count": 23,
   "metadata": {},
   "outputs": [
    {
     "data": {
      "text/plain": [
       "            Df Sum Sq Mean Sq F value   Pr(>F)    \n",
       "X.Brand.     3 11.823   3.941   25.66 0.000805 ***\n",
       "X.Quantity.  2  6.045   3.022   19.68 0.002316 ** \n",
       "Residuals    6  0.922   0.154                     \n",
       "---\n",
       "Signif. codes:  0 '***' 0.001 '**' 0.01 '*' 0.05 '.' 0.1 ' ' 1"
      ]
     },
     "metadata": {},
     "output_type": "display_data"
    }
   ],
   "source": [
    "outprotien = aov(X.Protien. ~ X.Brand. + X.Quantity., data = protien )\n",
    "summary(outprotien)"
   ]
  },
  {
   "cell_type": "code",
   "execution_count": 24,
   "metadata": {},
   "outputs": [
    {
     "data": {
      "text/plain": [
       "            Df Sum Sq Mean Sq F value   Pr(>F)    \n",
       "X.Brand.     3   1202     401   28.12 0.000624 ***\n",
       "X.Quantity.  2  18775    9388  658.78 9.32e-08 ***\n",
       "Residuals    6     85      14                     \n",
       "---\n",
       "Signif. codes:  0 '***' 0.001 '**' 0.01 '*' 0.05 '.' 0.1 ' ' 1"
      ]
     },
     "metadata": {},
     "output_type": "display_data"
    }
   ],
   "source": [
    "outcalories = aov(X.Calories. ~ X.Brand. + X.Quantity., data = calories )\n",
    "summary(outcalories)"
   ]
  },
  {
   "cell_type": "code",
   "execution_count": 25,
   "metadata": {},
   "outputs": [
    {
     "name": "stdout",
     "output_type": "stream",
     "text": [
      "[1] \"This procedure assumes fixed effects.\"\n",
      "[1] \"This procedure is for equally replicated treatments.\"\n",
      "[1] \"The procedure is valid if interactions are not significant.\"\n",
      "[1] \"X.Brand. : Difference w = 4.36581448411703\"\n",
      "Hit Return to see next plot.\n",
      "[1] \"Level  1 mean +w1 = 5.7\"\n",
      "[1] \"1 4 Not different.\"\n",
      "[1] \"Level  1 mean +w1 = 5.7\"\n",
      "[1] \"1 3 Different.\"\n",
      "[1] \"Level  1 mean +w1 = 5.7\"\n",
      "[1] \"1 2 Different.\"\n",
      "[1] \"Level  4 mean +w1 = 8.33\"\n",
      "[1] \"4 3 Not different.\"\n",
      "[1] \"Level  4 mean +w1 = 8.33\"\n",
      "[1] \"4 2 Different.\"\n",
      "[1] \"Level  3 mean +w1 = 11.7\"\n",
      "[1] \"3 2 Different.\"\n",
      "[1] \"X.Quantity. : Difference w = 3.35119156378981\"\n"
     ]
    },
    {
     "data": {
      "image/png": "[encoded data removed]",
      "text/plain": [
       "Plot with title \"T Method (95% Confidence)\""
      ]
     },
     "metadata": {},
     "output_type": "display_data"
    },
    {
     "name": "stdout",
     "output_type": "stream",
     "text": [
      "[1] \"Level  1 mean +w2 = 7.53\"\n",
      "[1] \"1 2 Not different.\"\n",
      "[1] \"Level  1 mean +w2 = 7.53\"\n",
      "[1] \"1 3 Different.\"\n",
      "[1] \"Level  2 mean +w2 = 9.2\"\n",
      "[1] \"2 3 Not different.\"\n"
     ]
    },
    {
     "data": {
      "image/png": "[encoded data removed]",
      "text/plain": [
       "Plot with title \"T Method (95% Confidence)\""
      ]
     },
     "metadata": {},
     "output_type": "display_data"
    }
   ],
   "source": [
    "source(url(\"http://math.wsu.edu/math/faculty/jpascual/stat423/R/two-way-T-method.R\"))\n",
    "twoway.t.method(outsugar)"
   ]
  },
  {
   "cell_type": "code",
   "execution_count": 26,
   "metadata": {},
   "outputs": [
    {
     "name": "stdout",
     "output_type": "stream",
     "text": [
      "[1] \"This procedure assumes fixed effects.\"\n",
      "[1] \"This procedure is for equally replicated treatments.\"\n",
      "[1] \"The procedure is valid if interactions are not significant.\"\n",
      "[1] \"X.Brand. : Difference w = 1.10778770730528\"\n",
      "Hit Return to see next plot.\n",
      "[1] \"Level  2 mean +w1 = 2.27\"\n",
      "[1] \"2 3 Different.\"\n",
      "[1] \"Level  2 mean +w1 = 2.27\"\n",
      "[1] \"2 4 Different.\"\n",
      "[1] \"Level  2 mean +w1 = 2.27\"\n",
      "[1] \"2 1 Different.\"\n",
      "[1] \"Level  3 mean +w1 = 3.54\"\n",
      "[1] \"3 4 Not different.\"\n",
      "[1] \"Level  3 mean +w1 = 3.54\"\n",
      "[1] \"3 1 Different.\"\n",
      "[1] \"Level  4 mean +w1 = 3.74\"\n",
      "[1] \"4 1 Different.\"\n",
      "[1] \"X.Quantity. : Difference w = 0.850335907010564\"\n"
     ]
    },
    {
     "data": {
      "image/png": "[encoded data removed]",
      "text/plain": [
       "Plot with title \"T Method (95% Confidence)\""
      ]
     },
     "metadata": {},
     "output_type": "display_data"
    },
    {
     "name": "stdout",
     "output_type": "stream",
     "text": [
      "[1] \"Level  1 mean +w2 = 2.6\"\n",
      "[1] \"1 2 Not different.\"\n",
      "[1] \"Level  1 mean +w2 = 2.6\"\n",
      "[1] \"1 3 Different.\"\n",
      "[1] \"Level  2 mean +w2 = 3.28\"\n",
      "[1] \"2 3 Different.\"\n"
     ]
    },
    {
     "data": {
      "image/png": "[encoded data removed]",
      "text/plain": [
       "Plot with title \"T Method (95% Confidence)\""
      ]
     },
     "metadata": {},
     "output_type": "display_data"
    }
   ],
   "source": [
    "twoway.t.method(outprotien)\n"
   ]
  },
  {
   "cell_type": "code",
   "execution_count": 27,
   "metadata": {},
   "outputs": [
    {
     "name": "stdout",
     "output_type": "stream",
     "text": [
      "[1] \"This procedure assumes fixed effects.\"\n",
      "[1] \"This procedure is for equally replicated treatments.\"\n",
      "[1] \"The procedure is valid if interactions are not significant.\"\n",
      "[1] \"X.Brand. : Difference w = 10.6697110556933\"\n",
      "Hit Return to see next plot.\n",
      "[1] \"Level  1 mean +w1 = 141.67\"\n",
      "[1] \"1 4 Not different.\"\n",
      "[1] \"Level  1 mean +w1 = 141.67\"\n",
      "[1] \"1 3 Different.\"\n",
      "[1] \"Level  1 mean +w1 = 141.67\"\n",
      "[1] \"1 2 Different.\"\n",
      "[1] \"Level  4 mean +w1 = 141.67\"\n",
      "[1] \"4 3 Different.\"\n",
      "[1] \"Level  4 mean +w1 = 141.67\"\n",
      "[1] \"4 2 Different.\"\n",
      "[1] \"Level  3 mean +w1 = 157.34\"\n",
      "[1] \"3 2 Not different.\"\n",
      "[1] \"X.Quantity. : Difference w = 8.1900515489141\"\n"
     ]
    },
    {
     "data": {
      "image/png": "[encoded data removed]",
      "text/plain": [
       "Plot with title \"T Method (95% Confidence)\""
      ]
     },
     "metadata": {},
     "output_type": "display_data"
    },
    {
     "name": "stdout",
     "output_type": "stream",
     "text": [
      "[1] \"Level  1 mean +w2 = 103.94\"\n",
      "[1] \"1 2 Different.\"\n",
      "[1] \"Level  1 mean +w2 = 103.94\"\n",
      "[1] \"1 3 Different.\"\n",
      "[1] \"Level  2 mean +w2 = 142.44\"\n",
      "[1] \"2 3 Different.\"\n"
     ]
    },
    {
     "data": {
      "image/png": "[encoded data removed]",
      "text/plain": [
       "Plot with title \"T Method (95% Confidence)\""
      ]
     },
     "metadata": {},
     "output_type": "display_data"
    }
   ],
   "source": [
    "twoway.t.method(outcalories)"
   ]
  }
 ],
 "metadata": {
  "kernelspec": {
   "display_name": "R",
   "language": "R",
   "name": "ir"
  },
  "language_info": {
   "codemirror_mode": "r",
   "file_extension": ".r",
   "mimetype": "text/x-r-source",
   "name": "R",
   "pygments_lexer": "r",
   "version": "3.5.1"
  }
 },
 "nbformat": 4,
 "nbformat_minor": 2
}
