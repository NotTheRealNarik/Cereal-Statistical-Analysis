{
 "cells": [
  {
   "cell_type": "code",
   "execution_count": 1,
   "metadata": {},
   "outputs": [],
   "source": [
    "#download packaegs through CRAN repo https://cran.r-project.org/web/packages/available_packages_by_name.html\n",
    "#install.packages('ggpubr', repos='http://cran.us.r-project.org')\n"
   ]
  },
  {
   "cell_type": "code",
   "execution_count": 2,
   "metadata": {},
   "outputs": [
    {
     "name": "stderr",
     "output_type": "stream",
     "text": [
      "Warning message:\n",
      "\"package 'ggpubr' was built under R version 3.5.3\"Loading required package: ggplot2\n",
      "Loading required package: magrittr\n",
      "Warning message:\n",
      "\"package 'magrittr' was built under R version 3.5.2\""
     ]
    }
   ],
   "source": [
    "library(ggpubr)\n",
    "library(ggplot2)\n",
    "#t method\n",
    "source(url(\"http://math.wsu.edu/math/faculty/jpascual/stat423/R/one-way-T-method.R\"))"
   ]
  },
  {
   "cell_type": "code",
   "execution_count": 3,
   "metadata": {},
   "outputs": [
    {
     "data": {
      "text/html": [
       "<table>\n",
       "<thead><tr><th scope=col>X.Type.</th><th scope=col>X.Brand.</th><th scope=col>X.Protein.</th></tr></thead>\n",
       "<tbody>\n",
       "\t<tr><td>MultiGrain           </td><td>Special K            </td><td>1.8                  </td></tr>\n",
       "\t<tr><td>WholeGrain           </td><td>Special K            </td><td>5.5                  </td></tr>\n",
       "\t<tr><td>MultiGrain           </td><td>Cheerios             </td><td>2.0                  </td></tr>\n",
       "\t<tr><td>WholeGrain           </td><td>Cheerios             </td><td>3.0                  </td></tr>\n",
       "\t<tr><td>MultiGrain           </td><td>Honey Bunches of Oats</td><td>1.9                  </td></tr>\n",
       "\t<tr><td>WholeGrain           </td><td>Honey Bunches of Oats</td><td>2.3                  </td></tr>\n",
       "\t<tr><td>MultiGrain           </td><td>Uncle Sam            </td><td>3.1                  </td></tr>\n",
       "\t<tr><td>WholeGrain           </td><td>Uncle Sam            </td><td>3.6                  </td></tr>\n",
       "\t<tr><td>MultiGrain           </td><td>Everyday Essential   </td><td>1.8                  </td></tr>\n",
       "\t<tr><td>WholeGrain           </td><td>Everyday Essential   </td><td>2.3                  </td></tr>\n",
       "\t<tr><td>MultiGrain           </td><td>Weis                 </td><td>2.0                  </td></tr>\n",
       "\t<tr><td>WholeGrain           </td><td>Weis                 </td><td>3.8                  </td></tr>\n",
       "</tbody>\n",
       "</table>\n"
      ],
      "text/latex": [
       "\\begin{tabular}{r|lll}\n",
       " X.Type. & X.Brand. & X.Protein.\\\\\n",
       "\\hline\n",
       "\t MultiGrain            & Special K             & 1.8                  \\\\\n",
       "\t WholeGrain            & Special K             & 5.5                  \\\\\n",
       "\t MultiGrain            & Cheerios              & 2.0                  \\\\\n",
       "\t WholeGrain            & Cheerios              & 3.0                  \\\\\n",
       "\t MultiGrain            & Honey Bunches of Oats & 1.9                  \\\\\n",
       "\t WholeGrain            & Honey Bunches of Oats & 2.3                  \\\\\n",
       "\t MultiGrain            & Uncle Sam             & 3.1                  \\\\\n",
       "\t WholeGrain            & Uncle Sam             & 3.6                  \\\\\n",
       "\t MultiGrain            & Everyday Essential    & 1.8                  \\\\\n",
       "\t WholeGrain            & Everyday Essential    & 2.3                  \\\\\n",
       "\t MultiGrain            & Weis                  & 2.0                  \\\\\n",
       "\t WholeGrain            & Weis                  & 3.8                  \\\\\n",
       "\\end{tabular}\n"
      ],
      "text/markdown": [
       "\n",
       "X.Type. | X.Brand. | X.Protein. | \n",
       "|---|---|---|---|---|---|---|---|---|---|---|---|\n",
       "| MultiGrain            | Special K             | 1.8                   | \n",
       "| WholeGrain            | Special K             | 5.5                   | \n",
       "| MultiGrain            | Cheerios              | 2.0                   | \n",
       "| WholeGrain            | Cheerios              | 3.0                   | \n",
       "| MultiGrain            | Honey Bunches of Oats | 1.9                   | \n",
       "| WholeGrain            | Honey Bunches of Oats | 2.3                   | \n",
       "| MultiGrain            | Uncle Sam             | 3.1                   | \n",
       "| WholeGrain            | Uncle Sam             | 3.6                   | \n",
       "| MultiGrain            | Everyday Essential    | 1.8                   | \n",
       "| WholeGrain            | Everyday Essential    | 2.3                   | \n",
       "| MultiGrain            | Weis                  | 2.0                   | \n",
       "| WholeGrain            | Weis                  | 3.8                   | \n",
       "\n",
       "\n"
      ],
      "text/plain": [
       "   X.Type.    X.Brand.              X.Protein.\n",
       "1  MultiGrain Special K             1.8       \n",
       "2  WholeGrain Special K             5.5       \n",
       "3  MultiGrain Cheerios              2.0       \n",
       "4  WholeGrain Cheerios              3.0       \n",
       "5  MultiGrain Honey Bunches of Oats 1.9       \n",
       "6  WholeGrain Honey Bunches of Oats 2.3       \n",
       "7  MultiGrain Uncle Sam             3.1       \n",
       "8  WholeGrain Uncle Sam             3.6       \n",
       "9  MultiGrain Everyday Essential    1.8       \n",
       "10 WholeGrain Everyday Essential    2.3       \n",
       "11 MultiGrain Weis                  2.0       \n",
       "12 WholeGrain Weis                  3.8       "
      ]
     },
     "metadata": {},
     "output_type": "display_data"
    }
   ],
   "source": [
    "#data importing\n",
    "sugar <- read.csv(\"sugar_data.txt\", sep = ',', header=T,colClasses=c(\"factor\", \"factor\",\"numeric\"))\n",
    "protein <- read.csv(\"protien_data.txt\", sep = ',', header=T,colClasses=c(\"factor\", \"factor\",\"numeric\"))\n",
    "fiber <- read.csv(\"fiber_data.txt\", sep = ',', header=T,colClasses=c(\"factor\", \"factor\",\"numeric\"))\n",
    "\n",
    "\n",
    "protein"
   ]
  },
  {
   "cell_type": "markdown",
   "metadata": {},
   "source": [
    "## Sugar Content Analysis"
   ]
  },
  {
   "cell_type": "code",
   "execution_count": 7,
   "metadata": {},
   "outputs": [
    {
     "data": {
      "text/html": [
       "<table>\n",
       "<thead><tr><th scope=col>X.Type.</th><th scope=col>X.Brand.</th><th scope=col>X.Sugar.</th></tr></thead>\n",
       "<tbody>\n",
       "\t<tr><td>MultiGrain           </td><td>Special K            </td><td>5.5                  </td></tr>\n",
       "\t<tr><td>WholeGrain           </td><td>Special K            </td><td>3.7                  </td></tr>\n",
       "\t<tr><td>MultiGrain           </td><td>Cheerios             </td><td>5.9                  </td></tr>\n",
       "\t<tr><td>WholeGrain           </td><td>Cheerios             </td><td>1.0                  </td></tr>\n",
       "\t<tr><td>MultiGrain           </td><td>Honey Bunches of Oats</td><td>5.7                  </td></tr>\n",
       "\t<tr><td>WholeGrain           </td><td>Honey Bunches of Oats</td><td>6.0                  </td></tr>\n",
       "\t<tr><td>MultiGrain           </td><td>Uncle Sam            </td><td>3.1                  </td></tr>\n",
       "\t<tr><td>WholeGrain           </td><td>Uncle Sam            </td><td>0.3                  </td></tr>\n",
       "\t<tr><td>MultiGrain           </td><td>Everyday Essential   </td><td>6.4                  </td></tr>\n",
       "\t<tr><td>WholeGrain           </td><td>Everyday Essential   </td><td>0.0                  </td></tr>\n",
       "\t<tr><td>MultiGrain           </td><td>Weis                 </td><td>6.0                  </td></tr>\n",
       "\t<tr><td>WholeGrain           </td><td>Weis                 </td><td>1.9                  </td></tr>\n",
       "</tbody>\n",
       "</table>\n"
      ],
      "text/latex": [
       "\\begin{tabular}{r|lll}\n",
       " X.Type. & X.Brand. & X.Sugar.\\\\\n",
       "\\hline\n",
       "\t MultiGrain            & Special K             & 5.5                  \\\\\n",
       "\t WholeGrain            & Special K             & 3.7                  \\\\\n",
       "\t MultiGrain            & Cheerios              & 5.9                  \\\\\n",
       "\t WholeGrain            & Cheerios              & 1.0                  \\\\\n",
       "\t MultiGrain            & Honey Bunches of Oats & 5.7                  \\\\\n",
       "\t WholeGrain            & Honey Bunches of Oats & 6.0                  \\\\\n",
       "\t MultiGrain            & Uncle Sam             & 3.1                  \\\\\n",
       "\t WholeGrain            & Uncle Sam             & 0.3                  \\\\\n",
       "\t MultiGrain            & Everyday Essential    & 6.4                  \\\\\n",
       "\t WholeGrain            & Everyday Essential    & 0.0                  \\\\\n",
       "\t MultiGrain            & Weis                  & 6.0                  \\\\\n",
       "\t WholeGrain            & Weis                  & 1.9                  \\\\\n",
       "\\end{tabular}\n"
      ],
      "text/markdown": [
       "\n",
       "X.Type. | X.Brand. | X.Sugar. | \n",
       "|---|---|---|---|---|---|---|---|---|---|---|---|\n",
       "| MultiGrain            | Special K             | 5.5                   | \n",
       "| WholeGrain            | Special K             | 3.7                   | \n",
       "| MultiGrain            | Cheerios              | 5.9                   | \n",
       "| WholeGrain            | Cheerios              | 1.0                   | \n",
       "| MultiGrain            | Honey Bunches of Oats | 5.7                   | \n",
       "| WholeGrain            | Honey Bunches of Oats | 6.0                   | \n",
       "| MultiGrain            | Uncle Sam             | 3.1                   | \n",
       "| WholeGrain            | Uncle Sam             | 0.3                   | \n",
       "| MultiGrain            | Everyday Essential    | 6.4                   | \n",
       "| WholeGrain            | Everyday Essential    | 0.0                   | \n",
       "| MultiGrain            | Weis                  | 6.0                   | \n",
       "| WholeGrain            | Weis                  | 1.9                   | \n",
       "\n",
       "\n"
      ],
      "text/plain": [
       "   X.Type.    X.Brand.              X.Sugar.\n",
       "1  MultiGrain Special K             5.5     \n",
       "2  WholeGrain Special K             3.7     \n",
       "3  MultiGrain Cheerios              5.9     \n",
       "4  WholeGrain Cheerios              1.0     \n",
       "5  MultiGrain Honey Bunches of Oats 5.7     \n",
       "6  WholeGrain Honey Bunches of Oats 6.0     \n",
       "7  MultiGrain Uncle Sam             3.1     \n",
       "8  WholeGrain Uncle Sam             0.3     \n",
       "9  MultiGrain Everyday Essential    6.4     \n",
       "10 WholeGrain Everyday Essential    0.0     \n",
       "11 MultiGrain Weis                  6.0     \n",
       "12 WholeGrain Weis                  1.9     "
      ]
     },
     "metadata": {},
     "output_type": "display_data"
    }
   ],
   "source": [
    "#data display\n",
    "sugar"
   ]
  },
  {
   "cell_type": "code",
   "execution_count": 8,
   "metadata": {
    "scrolled": true
   },
   "outputs": [
    {
     "data": {
      "text/plain": [
       "            Df Sum Sq Mean Sq F value Pr(>F)  \n",
       "X.Brand.     5  19.51    3.90   1.381 0.3660  \n",
       "X.Type.      1  32.34   32.34  11.441 0.0196 *\n",
       "Residuals    5  14.13    2.83                 \n",
       "---\n",
       "Signif. codes:  0 '***' 0.001 '**' 0.01 '*' 0.05 '.' 0.1 ' ' 1"
      ]
     },
     "metadata": {},
     "output_type": "display_data"
    }
   ],
   "source": [
    "#ANOVA Sugar\n",
    "sugar_out = aov(X.Sugar.~X.Brand.+X.Type.,data =sugar)\n",
    "a = summary(sugar_out)\n",
    "a"
   ]
  },
  {
   "cell_type": "code",
   "execution_count": 7,
   "metadata": {},
   "outputs": [
    {
     "data": {
      "text/plain": [
       "\n",
       "Call:\n",
       "lm(formula = X.Sugar. ~ X.Brand. + X.Type., data = sugar)\n",
       "\n",
       "Residuals:\n",
       "      1       2       3       4       5       6       7       8       9      10 \n",
       "-0.7417  0.7417  0.8083 -0.8083 -1.7917  1.7917 -0.2417  0.2417  1.5583 -1.5583 \n",
       "     11      12 \n",
       " 0.4083 -0.4083 \n",
       "\n",
       "Coefficients:\n",
       "                              Estimate Std. Error t value Pr(>|t|)  \n",
       "(Intercept)                     5.0917     1.2841   3.965   0.0107 *\n",
       "X.Brand.Everyday Essential     -0.2500     1.6813  -0.149   0.8876  \n",
       "X.Brand.Honey Bunches of Oats   2.4000     1.6813   1.427   0.2128  \n",
       "X.Brand.Special K               1.1500     1.6813   0.684   0.5244  \n",
       "X.Brand.Uncle Sam              -1.7500     1.6813  -1.041   0.3456  \n",
       "X.Brand.Weis                    0.5000     1.6813   0.297   0.7781  \n",
       "X.Type.WholeGrain              -3.2833     0.9707  -3.382   0.0196 *\n",
       "---\n",
       "Signif. codes:  0 '***' 0.001 '**' 0.01 '*' 0.05 '.' 0.1 ' ' 1\n",
       "\n",
       "Residual standard error: 1.681 on 5 degrees of freedom\n",
       "Multiple R-squared:  0.7858,\tAdjusted R-squared:  0.5288 \n",
       "F-statistic: 3.057 on 6 and 5 DF,  p-value: 0.1203\n"
      ]
     },
     "metadata": {},
     "output_type": "display_data"
    }
   ],
   "source": [
    "#for model analysis (52%)\n",
    "sugar_out = lm(X.Sugar.~X.Brand.+X.Type.,data =sugar)\n",
    "a = summary(sugar_out)\n",
    "a"
   ]
  },
  {
   "cell_type": "code",
   "execution_count": 37,
   "metadata": {
    "scrolled": false
   },
   "outputs": [
    {
     "data": {
      "image/png": "[encoded data removed]",
      "text/plain": [
       "Plot with title \"\""
      ]
     },
     "metadata": {},
     "output_type": "display_data"
    },
    {
     "data": {
      "text/plain": [
       "\n",
       "\tShapiro-Wilk normality test\n",
       "\n",
       "data:  Residuals\n",
       "W = 0.97022, p-value = 0.9131\n"
      ]
     },
     "metadata": {},
     "output_type": "display_data"
    },
    {
     "data": {
      "image/png": "[encoded data removed]",
      "text/plain": [
       "Plot with title \"Normal Probability Plot\""
      ]
     },
     "metadata": {},
     "output_type": "display_data"
    }
   ],
   "source": [
    "\n",
    "#normal probablitly plot\n",
    "plot(sugar_out,2,)\n",
    "source(url(\"http://math.wsu.edu/math/faculty/jpascual/stat423/R/chap13fcns.R\"))\n",
    "residplots.lm(sugar_out,std.resid=F)"
   ]
  },
  {
   "cell_type": "code",
   "execution_count": 64,
   "metadata": {
    "scrolled": false
   },
   "outputs": [],
   "source": [
    "#TukeyHSD(sugar_out)\n",
    "#oneway.t.method(sugar_out)"
   ]
  },
  {
   "cell_type": "code",
   "execution_count": 63,
   "metadata": {},
   "outputs": [
    {
     "data": {
      "image/png": "[encoded data removed]",
      "text/plain": [
       "plot without title"
      ]
     },
     "metadata": {},
     "output_type": "display_data"
    }
   ],
   "source": [
    "#interaction Sugar\n",
    "labs<- c(\"Cheerios\",\"Honey\",\"Everyday\",\"Sp K\",\"UncleSam\",\"Weis\")\n",
    "interaction.plot(sugar$X.Brand.,sugar$X.Type.,sugar$X.Sugar.,xlab=\"A\",ylab=\"B\",trace.label=\"B\",xaxt=\"n\")\n",
    "axis(1, at=1:6, labels=labs)\n"
   ]
  },
  {
   "cell_type": "markdown",
   "metadata": {},
   "source": [
    "## Protien Content Analysis"
   ]
  },
  {
   "cell_type": "code",
   "execution_count": 23,
   "metadata": {},
   "outputs": [
    {
     "data": {
      "text/html": [
       "<table>\n",
       "<thead><tr><th scope=col>X.Type.</th><th scope=col>X.Brand.</th><th scope=col>X.Protein.</th></tr></thead>\n",
       "<tbody>\n",
       "\t<tr><td>MultiGrain           </td><td>Special K            </td><td>1.8                  </td></tr>\n",
       "\t<tr><td>WholeGrain           </td><td>Special K            </td><td>5.5                  </td></tr>\n",
       "\t<tr><td>MultiGrain           </td><td>Cheerios             </td><td>2.0                  </td></tr>\n",
       "\t<tr><td>WholeGrain           </td><td>Cheerios             </td><td>3.0                  </td></tr>\n",
       "\t<tr><td>MultiGrain           </td><td>Honey Bunches of Oats</td><td>1.9                  </td></tr>\n",
       "\t<tr><td>WholeGrain           </td><td>Honey Bunches of Oats</td><td>2.3                  </td></tr>\n",
       "\t<tr><td>MultiGrain           </td><td>Uncle Sam            </td><td>3.1                  </td></tr>\n",
       "\t<tr><td>WholeGrain           </td><td>Uncle Sam            </td><td>3.6                  </td></tr>\n",
       "\t<tr><td>MultiGrain           </td><td>Everyday Essential   </td><td>1.8                  </td></tr>\n",
       "\t<tr><td>WholeGrain           </td><td>Everyday Essential   </td><td>2.3                  </td></tr>\n",
       "\t<tr><td>MultiGrain           </td><td>Weis                 </td><td>2.0                  </td></tr>\n",
       "\t<tr><td>WholeGrain           </td><td>Weis                 </td><td>3.8                  </td></tr>\n",
       "</tbody>\n",
       "</table>\n"
      ],
      "text/latex": [
       "\\begin{tabular}{r|lll}\n",
       " X.Type. & X.Brand. & X.Protein.\\\\\n",
       "\\hline\n",
       "\t MultiGrain            & Special K             & 1.8                  \\\\\n",
       "\t WholeGrain            & Special K             & 5.5                  \\\\\n",
       "\t MultiGrain            & Cheerios              & 2.0                  \\\\\n",
       "\t WholeGrain            & Cheerios              & 3.0                  \\\\\n",
       "\t MultiGrain            & Honey Bunches of Oats & 1.9                  \\\\\n",
       "\t WholeGrain            & Honey Bunches of Oats & 2.3                  \\\\\n",
       "\t MultiGrain            & Uncle Sam             & 3.1                  \\\\\n",
       "\t WholeGrain            & Uncle Sam             & 3.6                  \\\\\n",
       "\t MultiGrain            & Everyday Essential    & 1.8                  \\\\\n",
       "\t WholeGrain            & Everyday Essential    & 2.3                  \\\\\n",
       "\t MultiGrain            & Weis                  & 2.0                  \\\\\n",
       "\t WholeGrain            & Weis                  & 3.8                  \\\\\n",
       "\\end{tabular}\n"
      ],
      "text/markdown": [
       "\n",
       "X.Type. | X.Brand. | X.Protein. | \n",
       "|---|---|---|---|---|---|---|---|---|---|---|---|\n",
       "| MultiGrain            | Special K             | 1.8                   | \n",
       "| WholeGrain            | Special K             | 5.5                   | \n",
       "| MultiGrain            | Cheerios              | 2.0                   | \n",
       "| WholeGrain            | Cheerios              | 3.0                   | \n",
       "| MultiGrain            | Honey Bunches of Oats | 1.9                   | \n",
       "| WholeGrain            | Honey Bunches of Oats | 2.3                   | \n",
       "| MultiGrain            | Uncle Sam             | 3.1                   | \n",
       "| WholeGrain            | Uncle Sam             | 3.6                   | \n",
       "| MultiGrain            | Everyday Essential    | 1.8                   | \n",
       "| WholeGrain            | Everyday Essential    | 2.3                   | \n",
       "| MultiGrain            | Weis                  | 2.0                   | \n",
       "| WholeGrain            | Weis                  | 3.8                   | \n",
       "\n",
       "\n"
      ],
      "text/plain": [
       "   X.Type.    X.Brand.              X.Protein.\n",
       "1  MultiGrain Special K             1.8       \n",
       "2  WholeGrain Special K             5.5       \n",
       "3  MultiGrain Cheerios              2.0       \n",
       "4  WholeGrain Cheerios              3.0       \n",
       "5  MultiGrain Honey Bunches of Oats 1.9       \n",
       "6  WholeGrain Honey Bunches of Oats 2.3       \n",
       "7  MultiGrain Uncle Sam             3.1       \n",
       "8  WholeGrain Uncle Sam             3.6       \n",
       "9  MultiGrain Everyday Essential    1.8       \n",
       "10 WholeGrain Everyday Essential    2.3       \n",
       "11 MultiGrain Weis                  2.0       \n",
       "12 WholeGrain Weis                  3.8       "
      ]
     },
     "metadata": {},
     "output_type": "display_data"
    }
   ],
   "source": [
    "#data\n",
    "protein"
   ]
  },
  {
   "cell_type": "code",
   "execution_count": 24,
   "metadata": {
    "scrolled": false
   },
   "outputs": [
    {
     "data": {
      "text/plain": [
       "            Df Sum Sq Mean Sq F value Pr(>F)  \n",
       "X.Brand.     5  4.334   0.867   1.059 0.4758  \n",
       "X.Type.      1  5.201   5.201   6.352 0.0532 .\n",
       "Residuals    5  4.094   0.819                 \n",
       "---\n",
       "Signif. codes:  0 '***' 0.001 '**' 0.01 '*' 0.05 '.' 0.1 ' ' 1"
      ]
     },
     "metadata": {},
     "output_type": "display_data"
    }
   ],
   "source": [
    "#ANOVA Protein\n",
    "protein_out = aov(X.Protein. ~X.Brand. + X.Type.,data = protein)\n",
    "summary(protein_out)"
   ]
  },
  {
   "cell_type": "code",
   "execution_count": 17,
   "metadata": {},
   "outputs": [
    {
     "data": {
      "text/plain": [
       "\n",
       "Call:\n",
       "lm(formula = X.Protein. ~ X.Brand. + X.Type., data = protein)\n",
       "\n",
       "Residuals:\n",
       "      1       2       3       4       5       6       7       8       9      10 \n",
       "-1.1917  1.1917  0.1583 -0.1583  0.4583 -0.4583  0.4083 -0.4083  0.4083 -0.4083 \n",
       "     11      12 \n",
       "-0.2417  0.2417 \n",
       "\n",
       "Coefficients:\n",
       "                              Estimate Std. Error t value Pr(>|t|)  \n",
       "(Intercept)                     1.8417     0.6911   2.665   0.0446 *\n",
       "X.Brand.Everyday Essential     -0.4500     0.9049  -0.497   0.6401  \n",
       "X.Brand.Honey Bunches of Oats  -0.4000     0.9049  -0.442   0.6769  \n",
       "X.Brand.Special K               1.1500     0.9049   1.271   0.2597  \n",
       "X.Brand.Uncle Sam               0.8500     0.9049   0.939   0.3907  \n",
       "X.Brand.Weis                    0.4000     0.9049   0.442   0.6769  \n",
       "X.Type.WholeGrain               1.3167     0.5224   2.520   0.0532 .\n",
       "---\n",
       "Signif. codes:  0 '***' 0.001 '**' 0.01 '*' 0.05 '.' 0.1 ' ' 1\n",
       "\n",
       "Residual standard error: 0.9049 on 5 degrees of freedom\n",
       "Multiple R-squared:  0.6996,\tAdjusted R-squared:  0.3391 \n",
       "F-statistic: 1.941 on 6 and 5 DF,  p-value: 0.2419\n"
      ]
     },
     "metadata": {},
     "output_type": "display_data"
    }
   ],
   "source": [
    "#R_squared Protein (33%)\n",
    "protein_out = lm(X.Protein. ~X.Brand. + X.Type.,data = protein)\n",
    "summary(protein_out)"
   ]
  },
  {
   "cell_type": "code",
   "execution_count": 25,
   "metadata": {},
   "outputs": [
    {
     "data": {
      "image/png": "[encoded data removed]",
      "text/plain": [
       "Plot with title \"\""
      ]
     },
     "metadata": {},
     "output_type": "display_data"
    },
    {
     "data": {
      "text/plain": [
       "\n",
       "\tShapiro-Wilk normality test\n",
       "\n",
       "data:  Residuals\n",
       "W = 0.96253, p-value = 0.8193\n"
      ]
     },
     "metadata": {},
     "output_type": "display_data"
    },
    {
     "data": {
      "image/png": "[encoded data removed]",
      "text/plain": [
       "Plot with title \"Normal Probability Plot\""
      ]
     },
     "metadata": {},
     "output_type": "display_data"
    }
   ],
   "source": [
    "#normal probablitly plot\n",
    "plot(protein_out, 2)\n",
    "source(url(\"http://math.wsu.edu/math/faculty/jpascual/stat423/R/chap13fcns.R\"))\n",
    "residplots.lm(protein_out,std.resid=F)"
   ]
  },
  {
   "cell_type": "code",
   "execution_count": null,
   "metadata": {
    "scrolled": true
   },
   "outputs": [],
   "source": []
  },
  {
   "cell_type": "code",
   "execution_count": 66,
   "metadata": {},
   "outputs": [
    {
     "data": {
      "image/png": "[encoded data removed]",
      "text/plain": [
       "plot without title"
      ]
     },
     "metadata": {},
     "output_type": "display_data"
    }
   ],
   "source": [
    "#interaction Protein\n",
    "labs<- c(\"Cheerios\",\"Honey\",\"Everyday\",\"Sp K\",\"UncleSam\",\"Weis\")\n",
    "\n",
    "interaction.plot(protein$X.Brand.,protein$X.Type.,protein$X.Protein.,xlab=\"A\",ylab=\"B\",trace.label=\"B\",xaxt=\"n\")\n",
    "axis(1, at=1:6, labels=labs)"
   ]
  },
  {
   "cell_type": "markdown",
   "metadata": {},
   "source": [
    "## Fiber Content Analysis"
   ]
  },
  {
   "cell_type": "code",
   "execution_count": 26,
   "metadata": {},
   "outputs": [
    {
     "data": {
      "text/html": [
       "<table>\n",
       "<thead><tr><th scope=col>X.Type.</th><th scope=col>X.Brand.</th><th scope=col>X.Fiber.</th></tr></thead>\n",
       "<tbody>\n",
       "\t<tr><td>MultiGrain           </td><td>Special K            </td><td>2.7                  </td></tr>\n",
       "\t<tr><td>WholeGrain           </td><td>Special K            </td><td>0.0                  </td></tr>\n",
       "\t<tr><td>MultiGrain           </td><td>Cheerios             </td><td>2.9                  </td></tr>\n",
       "\t<tr><td>WholeGrain           </td><td>Cheerios             </td><td>3.0                  </td></tr>\n",
       "\t<tr><td>MultiGrain           </td><td>Honey Bunches of Oats</td><td>1.9                  </td></tr>\n",
       "\t<tr><td>WholeGrain           </td><td>Honey Bunches of Oats</td><td>2.3                  </td></tr>\n",
       "\t<tr><td>MultiGrain           </td><td>Uncle Sam            </td><td>3.1                  </td></tr>\n",
       "\t<tr><td>WholeGrain           </td><td>Uncle Sam            </td><td>5.2                  </td></tr>\n",
       "\t<tr><td>MultiGrain           </td><td>Everyday Essential   </td><td>0.9                  </td></tr>\n",
       "\t<tr><td>WholeGrain           </td><td>Everyday Essential   </td><td>2.9                  </td></tr>\n",
       "\t<tr><td>MultiGrain           </td><td>Weis                 </td><td>3.0                  </td></tr>\n",
       "\t<tr><td>WholeGrain           </td><td>Weis                 </td><td>2.8                  </td></tr>\n",
       "</tbody>\n",
       "</table>\n"
      ],
      "text/latex": [
       "\\begin{tabular}{r|lll}\n",
       " X.Type. & X.Brand. & X.Fiber.\\\\\n",
       "\\hline\n",
       "\t MultiGrain            & Special K             & 2.7                  \\\\\n",
       "\t WholeGrain            & Special K             & 0.0                  \\\\\n",
       "\t MultiGrain            & Cheerios              & 2.9                  \\\\\n",
       "\t WholeGrain            & Cheerios              & 3.0                  \\\\\n",
       "\t MultiGrain            & Honey Bunches of Oats & 1.9                  \\\\\n",
       "\t WholeGrain            & Honey Bunches of Oats & 2.3                  \\\\\n",
       "\t MultiGrain            & Uncle Sam             & 3.1                  \\\\\n",
       "\t WholeGrain            & Uncle Sam             & 5.2                  \\\\\n",
       "\t MultiGrain            & Everyday Essential    & 0.9                  \\\\\n",
       "\t WholeGrain            & Everyday Essential    & 2.9                  \\\\\n",
       "\t MultiGrain            & Weis                  & 3.0                  \\\\\n",
       "\t WholeGrain            & Weis                  & 2.8                  \\\\\n",
       "\\end{tabular}\n"
      ],
      "text/markdown": [
       "\n",
       "X.Type. | X.Brand. | X.Fiber. | \n",
       "|---|---|---|---|---|---|---|---|---|---|---|---|\n",
       "| MultiGrain            | Special K             | 2.7                   | \n",
       "| WholeGrain            | Special K             | 0.0                   | \n",
       "| MultiGrain            | Cheerios              | 2.9                   | \n",
       "| WholeGrain            | Cheerios              | 3.0                   | \n",
       "| MultiGrain            | Honey Bunches of Oats | 1.9                   | \n",
       "| WholeGrain            | Honey Bunches of Oats | 2.3                   | \n",
       "| MultiGrain            | Uncle Sam             | 3.1                   | \n",
       "| WholeGrain            | Uncle Sam             | 5.2                   | \n",
       "| MultiGrain            | Everyday Essential    | 0.9                   | \n",
       "| WholeGrain            | Everyday Essential    | 2.9                   | \n",
       "| MultiGrain            | Weis                  | 3.0                   | \n",
       "| WholeGrain            | Weis                  | 2.8                   | \n",
       "\n",
       "\n"
      ],
      "text/plain": [
       "   X.Type.    X.Brand.              X.Fiber.\n",
       "1  MultiGrain Special K             2.7     \n",
       "2  WholeGrain Special K             0.0     \n",
       "3  MultiGrain Cheerios              2.9     \n",
       "4  WholeGrain Cheerios              3.0     \n",
       "5  MultiGrain Honey Bunches of Oats 1.9     \n",
       "6  WholeGrain Honey Bunches of Oats 2.3     \n",
       "7  MultiGrain Uncle Sam             3.1     \n",
       "8  WholeGrain Uncle Sam             5.2     \n",
       "9  MultiGrain Everyday Essential    0.9     \n",
       "10 WholeGrain Everyday Essential    2.9     \n",
       "11 MultiGrain Weis                  3.0     \n",
       "12 WholeGrain Weis                  2.8     "
      ]
     },
     "metadata": {},
     "output_type": "display_data"
    }
   ],
   "source": [
    "#data\n",
    "fiber"
   ]
  },
  {
   "cell_type": "code",
   "execution_count": 8,
   "metadata": {},
   "outputs": [
    {
     "data": {
      "text/plain": [
       "            Df Sum Sq Mean Sq F value Pr(>F)\n",
       "X.Brand.     5  9.814  1.9628   1.272  0.399\n",
       "X.Type.      1  0.241  0.2408   0.156  0.709\n",
       "Residuals    5  7.714  1.5428               "
      ]
     },
     "metadata": {},
     "output_type": "display_data"
    }
   ],
   "source": [
    "#ANOVA Fiber\n",
    "fiber_out = aov(X.Fiber. ~ X.Brand. + X.Type. , data = fiber)\n",
    "summary(fiber_out)"
   ]
  },
  {
   "cell_type": "code",
   "execution_count": 12,
   "metadata": {
    "scrolled": true
   },
   "outputs": [
    {
     "data": {
      "text/plain": [
       "\n",
       "Call:\n",
       "lm(formula = X.Fiber. ~ X.Brand. + X.Type., data = fiber)\n",
       "\n",
       "Residuals:\n",
       "       1        2        3        4        5        6        7        8 \n",
       " 1.49167 -1.49167  0.09167 -0.09167 -0.05833  0.05833 -0.90833  0.90833 \n",
       "       9       10       11       12 \n",
       "-0.85833  0.85833  0.24167 -0.24167 \n",
       "\n",
       "Coefficients:\n",
       "                              Estimate Std. Error t value Pr(>|t|)  \n",
       "(Intercept)                     2.8083     0.9487   2.960   0.0315 *\n",
       "X.Brand.Everyday Essential     -1.0500     1.2421  -0.845   0.4365  \n",
       "X.Brand.Honey Bunches of Oats  -0.8500     1.2421  -0.684   0.5242  \n",
       "X.Brand.Special K              -1.6000     1.2421  -1.288   0.2541  \n",
       "X.Brand.Uncle Sam               1.2000     1.2421   0.966   0.3784  \n",
       "X.Brand.Weis                   -0.0500     1.2421  -0.040   0.9694  \n",
       "X.Type.WholeGrain               0.2833     0.7171   0.395   0.7091  \n",
       "---\n",
       "Signif. codes:  0 '***' 0.001 '**' 0.01 '*' 0.05 '.' 0.1 ' ' 1\n",
       "\n",
       "Residual standard error: 1.242 on 5 degrees of freedom\n",
       "Multiple R-squared:  0.5659,\tAdjusted R-squared:  0.04491 \n",
       "F-statistic: 1.086 on 6 and 5 DF,  p-value: 0.4738\n"
      ]
     },
     "metadata": {},
     "output_type": "display_data"
    }
   ],
   "source": [
    "#R_square Fiber (4.4%)\n",
    "fiber_out = lm(X.Fiber. ~ X.Brand. + X.Type. , data = fiber)\n",
    "summary(fiber_out)"
   ]
  },
  {
   "cell_type": "code",
   "execution_count": 13,
   "metadata": {},
   "outputs": [
    {
     "data": {
      "text/plain": [
       "\n",
       "Call:\n",
       "lm(formula = X.Fiber. ~ X.Brand., data = fiber)\n",
       "\n",
       "Residuals:\n",
       "   Min     1Q Median     3Q    Max \n",
       " -1.35  -0.40   0.00   0.40   1.35 \n",
       "\n",
       "Coefficients:\n",
       "                              Estimate Std. Error t value Pr(>|t|)  \n",
       "(Intercept)                     2.9500     0.8142   3.623   0.0111 *\n",
       "X.Brand.Everyday Essential     -1.0500     1.1515  -0.912   0.3970  \n",
       "X.Brand.Honey Bunches of Oats  -0.8500     1.1515  -0.738   0.4882  \n",
       "X.Brand.Special K              -1.6000     1.1515  -1.390   0.2140  \n",
       "X.Brand.Uncle Sam               1.2000     1.1515   1.042   0.3375  \n",
       "X.Brand.Weis                   -0.0500     1.1515  -0.043   0.9668  \n",
       "---\n",
       "Signif. codes:  0 '***' 0.001 '**' 0.01 '*' 0.05 '.' 0.1 ' ' 1\n",
       "\n",
       "Residual standard error: 1.151 on 6 degrees of freedom\n",
       "Multiple R-squared:  0.5523,\tAdjusted R-squared:  0.1792 \n",
       "F-statistic:  1.48 on 5 and 6 DF,  p-value: 0.3208\n"
      ]
     },
     "metadata": {},
     "output_type": "display_data"
    }
   ],
   "source": [
    "#R_square Fiber (17%)\n",
    "fiber_out = lm(X.Fiber. ~ X.Brand., data = fiber)\n",
    "summary(fiber_out)"
   ]
  },
  {
   "cell_type": "code",
   "execution_count": 29,
   "metadata": {},
   "outputs": [
    {
     "data": {
      "image/png": "[encoded data removed]",
      "text/plain": [
       "Plot with title \"\""
      ]
     },
     "metadata": {},
     "output_type": "display_data"
    },
    {
     "data": {
      "text/plain": [
       "\n",
       "\tShapiro-Wilk normality test\n",
       "\n",
       "data:  Residuals\n",
       "W = 0.97128, p-value = 0.9237\n"
      ]
     },
     "metadata": {},
     "output_type": "display_data"
    },
    {
     "data": {
      "image/png": "[encoded data removed]",
      "text/plain": [
       "Plot with title \"Normal Probability Plot\""
      ]
     },
     "metadata": {},
     "output_type": "display_data"
    }
   ],
   "source": [
    "#normal probability plot \n",
    "plot(fiber_out, 2)\n",
    "source(url(\"http://math.wsu.edu/math/faculty/jpascual/stat423/R/chap13fcns.R\"))\n",
    "residplots.lm(fiber_out,std.resid=F)"
   ]
  },
  {
   "cell_type": "code",
   "execution_count": 68,
   "metadata": {},
   "outputs": [
    {
     "data": {
      "image/png": "[encoded data removed]",
      "text/plain": [
       "plot without title"
      ]
     },
     "metadata": {},
     "output_type": "display_data"
    }
   ],
   "source": [
    "#interaction fiber\n",
    "labs<- c(\"Cheerios\",\"Honey\",\"Everyday\",\"Sp K\",\"UncleSam\",\"Weis\")\n",
    "\n",
    "interaction.plot(fiber$X.Brand.,fiber$X.Type.,fiber$X.Fiber.,xlab=\"A\",ylab=\"B\",trace.label=\"B\",xaxt=\"n\")\n",
    "axis(1, at=1:6, labels=labs)"
   ]
  }
 ],
 "metadata": {
  "kernelspec": {
   "display_name": "R",
   "language": "R",
   "name": "ir"
  },
  "language_info": {
   "codemirror_mode": "r",
   "file_extension": ".r",
   "mimetype": "text/x-r-source",
   "name": "R",
   "pygments_lexer": "r",
   "version": "3.5.1"
  }
 },
 "nbformat": 4,
 "nbformat_minor": 2
}
